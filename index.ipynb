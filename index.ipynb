{
 "cells": [
  {
   "cell_type": "markdown",
   "metadata": {},
   "source": [
    "# Scraping Concerts - Lab\n",
    "\n",
    "## Introduction\n",
    "\n",
    "Now that you've seen how to scrape a simple website, it's time to again practice those skills on a full-fledged site!\n",
    "In this lab, you'll practice your scraping skills on a music website: https://www.residentadvisor.net.\n",
    "## Objectives\n",
    "\n",
    "You will be able to:\n",
    "* Create a full scraping pipeline that involves traversing over many pages of a website, dealing with errors and storing data"
   ]
  },
  {
   "cell_type": "markdown",
   "metadata": {},
   "source": [
    "## View the Website\n",
    "\n",
    "For this lab, you'll be scraping the https://www.residentadvisor.net website. Start by navigating to the events page [here](https://www.residentadvisor.net/events) in your browser.\n",
    "\n",
    "<img src=\"images/ra.png\">"
   ]
  },
  {
   "cell_type": "code",
   "execution_count": null,
   "metadata": {},
   "outputs": [],
   "source": [
    "# Load the https://www.residentadvisor.net/events page in your browser."
   ]
  },
  {
   "cell_type": "markdown",
   "metadata": {},
   "source": [
    "## Open the Inspect Element Feature\n",
    "\n",
    "Next, open the inspect element feature from your web browser in order to preview the underlying HTML associated with the page."
   ]
  },
  {
   "cell_type": "code",
   "execution_count": 2,
   "metadata": {},
   "outputs": [],
   "source": [
    "import pandas as pd\n",
    "import requests\n",
    "from bs4 import BeautifulSoup\n",
    "import time"
   ]
  },
  {
   "cell_type": "code",
   "execution_count": 3,
   "metadata": {},
   "outputs": [],
   "source": [
    "html_page = requests.get('https://www.residentadvisor.net/events/us/newyork')\n",
    "soup = BeautifulSoup(html_page.content, 'html.parser')"
   ]
  },
  {
   "cell_type": "code",
   "execution_count": 31,
   "metadata": {},
   "outputs": [],
   "source": [
    "content = soup.find('div', class_= 'strip slide small')\n",
    "#content "
   ]
  },
  {
   "cell_type": "code",
   "execution_count": 80,
   "metadata": {},
   "outputs": [
    {
     "data": {
      "text/plain": [
       "['KTPM presents / Tribal Disco',\n",
       " 'Rave Revue: Living Your Best Afterlife',\n",
       " 'Sasha & John Digweed at The Brooklyn Mirage',\n",
       " 'Nora En Pure presents Purified',\n",
       " 'Rjd2',\n",
       " 'Jellybean Rocks The House ~ The Boat Ride with Jellybean Benitez',\n",
       " 'Amon Tobin presents: Two Fingers',\n",
       " 'Autograf, Zack Martino']"
      ]
     },
     "execution_count": 80,
     "metadata": {},
     "output_type": "execute_result"
    }
   ],
   "source": [
    "event_name = content.findAll('h1')\n",
    "event_names_list = []\n",
    "for event in event_name:\n",
    "    event_names_list.append(event.text.replace('[RESCHEDULED]', '').strip())\n",
    "\n",
    "event_names_list\n"
   ]
  },
  {
   "cell_type": "code",
   "execution_count": 79,
   "metadata": {},
   "outputs": [
    {
     "data": {
      "text/plain": [
       "['Rebel Cafe & Garden',\n",
       " 'Secret Loft',\n",
       " 'Brooklyn Mirage',\n",
       " 'Brooklyn Mirage',\n",
       " 'Elsewhere',\n",
       " 'Circle Line Cruises',\n",
       " 'Elsewhere',\n",
       " 'Elsewhere']"
      ]
     },
     "execution_count": 79,
     "metadata": {},
     "output_type": "execute_result"
    }
   ],
   "source": [
    "event_venue = content.findAll('p', class_= 'copy nohide')\n",
    "venues_list = []\n",
    "for venue in event_venue:\n",
    "    venues_list.append(venue.text.strip())\n",
    "\n",
    "venues_list"
   ]
  },
  {
   "cell_type": "code",
   "execution_count": 100,
   "metadata": {},
   "outputs": [
    {
     "data": {
      "text/plain": [
       "['Sat, 25 Jul 2020',\n",
       " 'Sat, 25 Jul 2020',\n",
       " 'Fri, 31 Jul 2020',\n",
       " 'Sat, 1 Aug 2020',\n",
       " 'Fri, 14 Aug 2020',\n",
       " 'Sat, 15 Aug 2020',\n",
       " 'Thu, 20 Aug 2020',\n",
       " 'Sat, 22 Aug 2020']"
      ]
     },
     "execution_count": 100,
     "metadata": {},
     "output_type": "execute_result"
    }
   ],
   "source": [
    "event_dates = content.findAll('article', class_= 'highlight-top')\n",
    "event_date_list = []\n",
    "for date in event_dates:\n",
    "    event_date_list.append(date.text.split('\\n')[1])\n",
    "\n",
    "event_date_list"
   ]
  },
  {
   "cell_type": "code",
   "execution_count": 78,
   "metadata": {
    "scrolled": true
   },
   "outputs": [
    {
     "data": {
      "text/plain": [
       "['7 attending',\n",
       " '2 attending',\n",
       " '56 attending',\n",
       " '71 attending',\n",
       " '13 attending',\n",
       " '7 attending',\n",
       " '20 attending',\n",
       " '24 attending']"
      ]
     },
     "execution_count": 78,
     "metadata": {},
     "output_type": "execute_result"
    }
   ],
   "source": [
    "attendees = content.findAll('p', class_= 'counter nohide')\n",
    "attendees_list = []\n",
    "for attendee in attendees:\n",
    "    attendees_list.append(attendee.text.strip())\n",
    "\n",
    "attendees_list"
   ]
  },
  {
   "cell_type": "code",
   "execution_count": 104,
   "metadata": {},
   "outputs": [
    {
     "data": {
      "text/html": [
       "<div>\n",
       "<style scoped>\n",
       "    .dataframe tbody tr th:only-of-type {\n",
       "        vertical-align: middle;\n",
       "    }\n",
       "\n",
       "    .dataframe tbody tr th {\n",
       "        vertical-align: top;\n",
       "    }\n",
       "\n",
       "    .dataframe thead th {\n",
       "        text-align: right;\n",
       "    }\n",
       "</style>\n",
       "<table border=\"1\" class=\"dataframe\">\n",
       "  <thead>\n",
       "    <tr style=\"text-align: right;\">\n",
       "      <th></th>\n",
       "      <th>Event_Name</th>\n",
       "      <th>Venue</th>\n",
       "      <th>Event_Date</th>\n",
       "      <th>Number_of_Attendees</th>\n",
       "    </tr>\n",
       "  </thead>\n",
       "  <tbody>\n",
       "    <tr>\n",
       "      <th>0</th>\n",
       "      <td>KTPM presents / Tribal Disco</td>\n",
       "      <td>Rebel Cafe &amp; Garden</td>\n",
       "      <td>Sat, 25 Jul 2020</td>\n",
       "      <td>7 attending</td>\n",
       "    </tr>\n",
       "    <tr>\n",
       "      <th>1</th>\n",
       "      <td>Rave Revue: Living Your Best Afterlife</td>\n",
       "      <td>Secret Loft</td>\n",
       "      <td>Sat, 25 Jul 2020</td>\n",
       "      <td>2 attending</td>\n",
       "    </tr>\n",
       "    <tr>\n",
       "      <th>2</th>\n",
       "      <td>Sasha &amp; John Digweed at The Brooklyn Mirage</td>\n",
       "      <td>Brooklyn Mirage</td>\n",
       "      <td>Fri, 31 Jul 2020</td>\n",
       "      <td>56 attending</td>\n",
       "    </tr>\n",
       "    <tr>\n",
       "      <th>3</th>\n",
       "      <td>Nora En Pure presents Purified</td>\n",
       "      <td>Brooklyn Mirage</td>\n",
       "      <td>Sat, 1 Aug 2020</td>\n",
       "      <td>71 attending</td>\n",
       "    </tr>\n",
       "    <tr>\n",
       "      <th>4</th>\n",
       "      <td>Rjd2</td>\n",
       "      <td>Elsewhere</td>\n",
       "      <td>Fri, 14 Aug 2020</td>\n",
       "      <td>13 attending</td>\n",
       "    </tr>\n",
       "  </tbody>\n",
       "</table>\n",
       "</div>"
      ],
      "text/plain": [
       "                                    Event_Name                Venue  \\\n",
       "0                 KTPM presents / Tribal Disco  Rebel Cafe & Garden   \n",
       "1       Rave Revue: Living Your Best Afterlife          Secret Loft   \n",
       "2  Sasha & John Digweed at The Brooklyn Mirage      Brooklyn Mirage   \n",
       "3               Nora En Pure presents Purified      Brooklyn Mirage   \n",
       "4                                         Rjd2            Elsewhere   \n",
       "\n",
       "         Event_Date Number_of_Attendees  \n",
       "0  Sat, 25 Jul 2020         7 attending  \n",
       "1  Sat, 25 Jul 2020         2 attending  \n",
       "2  Fri, 31 Jul 2020        56 attending  \n",
       "3   Sat, 1 Aug 2020        71 attending  \n",
       "4  Fri, 14 Aug 2020        13 attending  "
      ]
     },
     "execution_count": 104,
     "metadata": {},
     "output_type": "execute_result"
    }
   ],
   "source": [
    "event_information = {'event_name': event_names_list, \n",
    "                      'venue': venues_list, \n",
    "                      'date' : event_date_list,\n",
    "                      'attendees' : attendees_list\n",
    "                    }\n",
    "\n",
    "df = pd.DataFrame(event_information)\n",
    "df.columns = [\"Event_Name\", \"Venue\", \"Event_Date\", \"Number_of_Attendees\"]\n",
    "df.head()"
   ]
  },
  {
   "cell_type": "markdown",
   "metadata": {},
   "source": [
    "## Write a Function to Scrape all of the Events on the Given Page Events Page\n",
    "\n",
    "The function should return a Pandas DataFrame with columns for the Event_Name, Venue, Event_Date and Number_of_Attendees."
   ]
  },
  {
   "cell_type": "code",
   "execution_count": 107,
   "metadata": {},
   "outputs": [],
   "source": [
    "def scrape_events(events_page_url):\n",
    "    html_page = requests.get(events_page_url)\n",
    "    soup = BeautifulSoup(html_page.content, 'html.parser')\n",
    "    \n",
    "    event_name = content.findAll('h1')\n",
    "    event_names_list = []\n",
    "    for event in event_name:\n",
    "        event_names_list.append(event.text.replace('[RESCHEDULED]', '').strip())\n",
    "    \n",
    "    event_venue = content.findAll('p', class_= 'copy nohide')\n",
    "    venues_list = []\n",
    "    for venue in event_venue:\n",
    "        venues_list.append(venue.text.strip())\n",
    "    \n",
    "    event_dates = content.findAll('article', class_= 'highlight-top')\n",
    "    event_date_list = []\n",
    "    for date in event_dates:\n",
    "        event_date_list.append(date.text.split('\\n')[1])\n",
    "    \n",
    "    attendees = content.findAll('p', class_= 'counter nohide')\n",
    "    attendees_list = []\n",
    "    for attendee in attendees:\n",
    "        attendees_list.append(attendee.text.strip())\n",
    "    \n",
    "    event_information = {'event_name': event_names_list, 'venue': venues_list, \n",
    "                         'date' : event_date_list, 'attendees' : attendees_list}\n",
    "     \n",
    "    df = pd.DataFrame(event_information)\n",
    "    df.columns = [\"Event_Name\", \"Venue\", \"Event_Date\", \"Number_of_Attendees\"]\n",
    "    \n",
    "    return df"
   ]
  },
  {
   "cell_type": "code",
   "execution_count": 108,
   "metadata": {},
   "outputs": [
    {
     "data": {
      "text/html": [
       "<div>\n",
       "<style scoped>\n",
       "    .dataframe tbody tr th:only-of-type {\n",
       "        vertical-align: middle;\n",
       "    }\n",
       "\n",
       "    .dataframe tbody tr th {\n",
       "        vertical-align: top;\n",
       "    }\n",
       "\n",
       "    .dataframe thead th {\n",
       "        text-align: right;\n",
       "    }\n",
       "</style>\n",
       "<table border=\"1\" class=\"dataframe\">\n",
       "  <thead>\n",
       "    <tr style=\"text-align: right;\">\n",
       "      <th></th>\n",
       "      <th>Event_Name</th>\n",
       "      <th>Venue</th>\n",
       "      <th>Event_Date</th>\n",
       "      <th>Number_of_Attendees</th>\n",
       "    </tr>\n",
       "  </thead>\n",
       "  <tbody>\n",
       "    <tr>\n",
       "      <th>0</th>\n",
       "      <td>KTPM presents / Tribal Disco</td>\n",
       "      <td>Rebel Cafe &amp; Garden</td>\n",
       "      <td>Sat, 25 Jul 2020</td>\n",
       "      <td>7 attending</td>\n",
       "    </tr>\n",
       "    <tr>\n",
       "      <th>1</th>\n",
       "      <td>Rave Revue: Living Your Best Afterlife</td>\n",
       "      <td>Secret Loft</td>\n",
       "      <td>Sat, 25 Jul 2020</td>\n",
       "      <td>2 attending</td>\n",
       "    </tr>\n",
       "    <tr>\n",
       "      <th>2</th>\n",
       "      <td>Sasha &amp; John Digweed at The Brooklyn Mirage</td>\n",
       "      <td>Brooklyn Mirage</td>\n",
       "      <td>Fri, 31 Jul 2020</td>\n",
       "      <td>56 attending</td>\n",
       "    </tr>\n",
       "    <tr>\n",
       "      <th>3</th>\n",
       "      <td>Nora En Pure presents Purified</td>\n",
       "      <td>Brooklyn Mirage</td>\n",
       "      <td>Sat, 1 Aug 2020</td>\n",
       "      <td>71 attending</td>\n",
       "    </tr>\n",
       "    <tr>\n",
       "      <th>4</th>\n",
       "      <td>Rjd2</td>\n",
       "      <td>Elsewhere</td>\n",
       "      <td>Fri, 14 Aug 2020</td>\n",
       "      <td>13 attending</td>\n",
       "    </tr>\n",
       "    <tr>\n",
       "      <th>5</th>\n",
       "      <td>Jellybean Rocks The House ~ The Boat Ride with...</td>\n",
       "      <td>Circle Line Cruises</td>\n",
       "      <td>Sat, 15 Aug 2020</td>\n",
       "      <td>7 attending</td>\n",
       "    </tr>\n",
       "    <tr>\n",
       "      <th>6</th>\n",
       "      <td>Amon Tobin presents: Two Fingers</td>\n",
       "      <td>Elsewhere</td>\n",
       "      <td>Thu, 20 Aug 2020</td>\n",
       "      <td>20 attending</td>\n",
       "    </tr>\n",
       "    <tr>\n",
       "      <th>7</th>\n",
       "      <td>Autograf, Zack Martino</td>\n",
       "      <td>Elsewhere</td>\n",
       "      <td>Sat, 22 Aug 2020</td>\n",
       "      <td>24 attending</td>\n",
       "    </tr>\n",
       "  </tbody>\n",
       "</table>\n",
       "</div>"
      ],
      "text/plain": [
       "                                          Event_Name                Venue  \\\n",
       "0                       KTPM presents / Tribal Disco  Rebel Cafe & Garden   \n",
       "1             Rave Revue: Living Your Best Afterlife          Secret Loft   \n",
       "2        Sasha & John Digweed at The Brooklyn Mirage      Brooklyn Mirage   \n",
       "3                     Nora En Pure presents Purified      Brooklyn Mirage   \n",
       "4                                               Rjd2            Elsewhere   \n",
       "5  Jellybean Rocks The House ~ The Boat Ride with...  Circle Line Cruises   \n",
       "6                   Amon Tobin presents: Two Fingers            Elsewhere   \n",
       "7                             Autograf, Zack Martino            Elsewhere   \n",
       "\n",
       "         Event_Date Number_of_Attendees  \n",
       "0  Sat, 25 Jul 2020         7 attending  \n",
       "1  Sat, 25 Jul 2020         2 attending  \n",
       "2  Fri, 31 Jul 2020        56 attending  \n",
       "3   Sat, 1 Aug 2020        71 attending  \n",
       "4  Fri, 14 Aug 2020        13 attending  \n",
       "5  Sat, 15 Aug 2020         7 attending  \n",
       "6  Thu, 20 Aug 2020        20 attending  \n",
       "7  Sat, 22 Aug 2020        24 attending  "
      ]
     },
     "execution_count": 108,
     "metadata": {},
     "output_type": "execute_result"
    }
   ],
   "source": [
    "scrape_events('https://www.residentadvisor.net/events/us/newyork')"
   ]
  },
  {
   "cell_type": "markdown",
   "metadata": {},
   "source": [
    "## Write a Function to Retrieve the URL for the Next Page"
   ]
  },
  {
   "cell_type": "code",
   "execution_count": 115,
   "metadata": {},
   "outputs": [],
   "source": [
    "html_page = requests.get('https://www.residentadvisor.net/events/us/newyork')\n",
    "soup = BeautifulSoup(html_page.content, 'html.parser')"
   ]
  },
  {
   "cell_type": "code",
   "execution_count": 121,
   "metadata": {},
   "outputs": [
    {
     "data": {
      "text/plain": [
       "'/events/us/newyork/week/2020-08-01'"
      ]
     },
     "execution_count": 121,
     "metadata": {},
     "output_type": "execute_result"
    }
   ],
   "source": [
    "button_location = soup.find('a', attrs={'ga-event-action':\"Next \"}).attrs['href']\n",
    "button_location"
   ]
  },
  {
   "cell_type": "code",
   "execution_count": 126,
   "metadata": {},
   "outputs": [],
   "source": [
    "def next_page(url):\n",
    "    html_page = requests.get(url)\n",
    "    soup = BeautifulSoup(html_page.content, 'html.parser')\n",
    "    button_url = soup.find('a', attrs={'ga-event-action':\"Next \"}).attrs['href']   \n",
    "    next_page_url = 'https://www.residentadvisor.net{}'.format(button_url)\n",
    "    return next_page_url"
   ]
  },
  {
   "cell_type": "code",
   "execution_count": 123,
   "metadata": {},
   "outputs": [
    {
     "data": {
      "text/plain": [
       "'https://www.residentadvisor.net/events/us/newyork/week/2020-08-01'"
      ]
     },
     "execution_count": 123,
     "metadata": {},
     "output_type": "execute_result"
    }
   ],
   "source": [
    "next_page('https://www.residentadvisor.net/events/us/newyork')"
   ]
  },
  {
   "cell_type": "markdown",
   "metadata": {},
   "source": [
    "## Scrape the Next 1000 Events for Your Area\n",
    "\n",
    "Display the data sorted by the number of attendees. If there is a tie for the number attending, sort by event date."
   ]
  },
  {
   "cell_type": "code",
   "execution_count": 128,
   "metadata": {},
   "outputs": [
    {
     "data": {
      "text/html": [
       "<div>\n",
       "<style scoped>\n",
       "    .dataframe tbody tr th:only-of-type {\n",
       "        vertical-align: middle;\n",
       "    }\n",
       "\n",
       "    .dataframe tbody tr th {\n",
       "        vertical-align: top;\n",
       "    }\n",
       "\n",
       "    .dataframe thead th {\n",
       "        text-align: right;\n",
       "    }\n",
       "</style>\n",
       "<table border=\"1\" class=\"dataframe\">\n",
       "  <thead>\n",
       "    <tr style=\"text-align: right;\">\n",
       "      <th></th>\n",
       "      <th>Event_Name</th>\n",
       "      <th>Venue</th>\n",
       "      <th>Event_Date</th>\n",
       "      <th>Number_of_Attendees</th>\n",
       "    </tr>\n",
       "  </thead>\n",
       "  <tbody>\n",
       "    <tr>\n",
       "      <th>0</th>\n",
       "      <td>KTPM presents / Tribal Disco</td>\n",
       "      <td>Rebel Cafe &amp; Garden</td>\n",
       "      <td>Sat, 25 Jul 2020</td>\n",
       "      <td>7 attending</td>\n",
       "    </tr>\n",
       "    <tr>\n",
       "      <th>1</th>\n",
       "      <td>Rave Revue: Living Your Best Afterlife</td>\n",
       "      <td>Secret Loft</td>\n",
       "      <td>Sat, 25 Jul 2020</td>\n",
       "      <td>2 attending</td>\n",
       "    </tr>\n",
       "    <tr>\n",
       "      <th>2</th>\n",
       "      <td>Sasha &amp; John Digweed at The Brooklyn Mirage</td>\n",
       "      <td>Brooklyn Mirage</td>\n",
       "      <td>Fri, 31 Jul 2020</td>\n",
       "      <td>56 attending</td>\n",
       "    </tr>\n",
       "    <tr>\n",
       "      <th>3</th>\n",
       "      <td>Nora En Pure presents Purified</td>\n",
       "      <td>Brooklyn Mirage</td>\n",
       "      <td>Sat, 1 Aug 2020</td>\n",
       "      <td>71 attending</td>\n",
       "    </tr>\n",
       "    <tr>\n",
       "      <th>4</th>\n",
       "      <td>Rjd2</td>\n",
       "      <td>Elsewhere</td>\n",
       "      <td>Fri, 14 Aug 2020</td>\n",
       "      <td>13 attending</td>\n",
       "    </tr>\n",
       "    <tr>\n",
       "      <th>5</th>\n",
       "      <td>Jellybean Rocks The House ~ The Boat Ride with...</td>\n",
       "      <td>Circle Line Cruises</td>\n",
       "      <td>Sat, 15 Aug 2020</td>\n",
       "      <td>7 attending</td>\n",
       "    </tr>\n",
       "    <tr>\n",
       "      <th>6</th>\n",
       "      <td>Amon Tobin presents: Two Fingers</td>\n",
       "      <td>Elsewhere</td>\n",
       "      <td>Thu, 20 Aug 2020</td>\n",
       "      <td>20 attending</td>\n",
       "    </tr>\n",
       "    <tr>\n",
       "      <th>7</th>\n",
       "      <td>Autograf, Zack Martino</td>\n",
       "      <td>Elsewhere</td>\n",
       "      <td>Sat, 22 Aug 2020</td>\n",
       "      <td>24 attending</td>\n",
       "    </tr>\n",
       "  </tbody>\n",
       "</table>\n",
       "</div>"
      ],
      "text/plain": [
       "                                          Event_Name                Venue  \\\n",
       "0                       KTPM presents / Tribal Disco  Rebel Cafe & Garden   \n",
       "1             Rave Revue: Living Your Best Afterlife          Secret Loft   \n",
       "2        Sasha & John Digweed at The Brooklyn Mirage      Brooklyn Mirage   \n",
       "3                     Nora En Pure presents Purified      Brooklyn Mirage   \n",
       "4                                               Rjd2            Elsewhere   \n",
       "5  Jellybean Rocks The House ~ The Boat Ride with...  Circle Line Cruises   \n",
       "6                   Amon Tobin presents: Two Fingers            Elsewhere   \n",
       "7                             Autograf, Zack Martino            Elsewhere   \n",
       "\n",
       "         Event_Date Number_of_Attendees  \n",
       "0  Sat, 25 Jul 2020         7 attending  \n",
       "1  Sat, 25 Jul 2020         2 attending  \n",
       "2  Fri, 31 Jul 2020        56 attending  \n",
       "3   Sat, 1 Aug 2020        71 attending  \n",
       "4  Fri, 14 Aug 2020        13 attending  \n",
       "5  Sat, 15 Aug 2020         7 attending  \n",
       "6  Thu, 20 Aug 2020        20 attending  \n",
       "7  Sat, 22 Aug 2020        24 attending  "
      ]
     },
     "execution_count": 128,
     "metadata": {},
     "output_type": "execute_result"
    }
   ],
   "source": [
    "#My code worked with a lesser number.  My thought is that I pulled the information from the wrong event listing area\n",
    "#...which is what we did during study group.  I'll redo this the right way at some point.\n",
    "\n",
    "num_events = 0\n",
    "url = 'https://www.residentadvisor.net/events/us/newyork'\n",
    "\n",
    "while num_events < 10:\n",
    "    df = pd.DataFrame(scrape_events(url))\n",
    "    url = next_page(url)\n",
    "    num_events += 1\n",
    "    time.sleep(3)\n",
    "    \n",
    "df\n"
   ]
  },
  {
   "cell_type": "markdown",
   "metadata": {},
   "source": [
    "## Summary \n",
    "\n",
    "Congratulations! In this lab, you successfully developed a pipeline to scrape a website for concert event information!"
   ]
  }
 ],
 "metadata": {
  "kernelspec": {
   "display_name": "Python 3",
   "language": "python",
   "name": "python3"
  },
  "language_info": {
   "codemirror_mode": {
    "name": "ipython",
    "version": 3
   },
   "file_extension": ".py",
   "mimetype": "text/x-python",
   "name": "python",
   "nbconvert_exporter": "python",
   "pygments_lexer": "ipython3",
   "version": "3.6.9"
  }
 },
 "nbformat": 4,
 "nbformat_minor": 2
}
